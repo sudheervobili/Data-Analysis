{
 "cells": [
  {
   "cell_type": "markdown",
   "id": "6e176d1e",
   "metadata": {},
   "source": [
    "## Exercise-1"
   ]
  },
  {
   "cell_type": "markdown",
   "id": "2b5e9865",
   "metadata": {},
   "source": [
    "### 1. Array Computations using NumPy"
   ]
  },
  {
   "cell_type": "markdown",
   "id": "7646e0a8",
   "metadata": {},
   "source": [
    "#### a. Perform arithmetic operations using array"
   ]
  },
  {
   "cell_type": "code",
   "execution_count": 1,
   "id": "ecf9041a",
   "metadata": {},
   "outputs": [],
   "source": [
    "import numpy as np"
   ]
  },
  {
   "cell_type": "code",
   "execution_count": 2,
   "id": "ecc48f17",
   "metadata": {},
   "outputs": [],
   "source": [
    "a = np.array([1,2,3,4])\n",
    "b = np.array([5,3,6,7])"
   ]
  },
  {
   "cell_type": "code",
   "execution_count": 3,
   "id": "cccb5c2f",
   "metadata": {},
   "outputs": [
    {
     "data": {
      "text/plain": [
       "array([ 6,  5,  9, 11])"
      ]
     },
     "execution_count": 3,
     "metadata": {},
     "output_type": "execute_result"
    }
   ],
   "source": [
    "\"\"\"Addition\"\"\"\n",
    "a+b"
   ]
  },
  {
   "cell_type": "code",
   "execution_count": 4,
   "id": "fc8e9d40",
   "metadata": {},
   "outputs": [
    {
     "data": {
      "text/plain": [
       "array([-4, -1, -3, -3])"
      ]
     },
     "execution_count": 4,
     "metadata": {},
     "output_type": "execute_result"
    }
   ],
   "source": [
    "\"\"\"Subtraction\"\"\"\n",
    "a-b"
   ]
  },
  {
   "cell_type": "code",
   "execution_count": 5,
   "id": "83eb0dc4",
   "metadata": {},
   "outputs": [
    {
     "data": {
      "text/plain": [
       "array([ 5,  6, 18, 28])"
      ]
     },
     "execution_count": 5,
     "metadata": {},
     "output_type": "execute_result"
    }
   ],
   "source": [
    "\"\"\"Multiplication\"\"\"\n",
    "a*b"
   ]
  },
  {
   "cell_type": "code",
   "execution_count": 6,
   "id": "7f722e61",
   "metadata": {},
   "outputs": [
    {
     "data": {
      "text/plain": [
       "array([0.2       , 0.66666667, 0.5       , 0.57142857])"
      ]
     },
     "execution_count": 6,
     "metadata": {},
     "output_type": "execute_result"
    }
   ],
   "source": [
    "\"\"\"Division\"\"\"\n",
    "a/b"
   ]
  },
  {
   "cell_type": "code",
   "execution_count": 8,
   "id": "62aedfe9",
   "metadata": {},
   "outputs": [
    {
     "data": {
      "text/plain": [
       "(array([ 1,  4,  9, 16]), array([25,  9, 36, 49]))"
      ]
     },
     "execution_count": 8,
     "metadata": {},
     "output_type": "execute_result"
    }
   ],
   "source": [
    "\"\"\"Exponents of Each Array\"\"\"\n",
    "a**2,b**2"
   ]
  },
  {
   "cell_type": "code",
   "execution_count": 9,
   "id": "62c5e5e9",
   "metadata": {},
   "outputs": [
    {
     "data": {
      "text/plain": [
       "array([    1,     8,   729, 16384])"
      ]
     },
     "execution_count": 9,
     "metadata": {},
     "output_type": "execute_result"
    }
   ],
   "source": [
    "a**b"
   ]
  },
  {
   "cell_type": "code",
   "execution_count": 10,
   "id": "40baa9f4",
   "metadata": {},
   "outputs": [
    {
     "name": "stdout",
     "output_type": "stream",
     "text": [
      "Matrix Multiplication: [[ 4  6]\n",
      " [10 12]]\n"
     ]
    }
   ],
   "source": [
    "matrix1 = np.array([[1, 2], [3, 4]])\n",
    "matrix2 = np.array([[2, 0], [1, 3]])\n",
    "\n",
    "# Matrix multiplication (dot product)\n",
    "matrix_mult_result = np.dot(matrix1, matrix2)\n",
    "print(\"Matrix Multiplication:\", matrix_mult_result)\n"
   ]
  },
  {
   "cell_type": "markdown",
   "id": "43d77445",
   "metadata": {},
   "source": [
    "#### b. Perform slicing and indexing on multi-dimensional arrays."
   ]
  },
  {
   "cell_type": "code",
   "execution_count": 11,
   "id": "ffde38b6",
   "metadata": {},
   "outputs": [],
   "source": [
    "# Multidimension arrays\n",
    "arr1 = np.array([[1,2,3],[4,5,6]])\n",
    "arr2 = np.array([[3,2,5],[4,2,7]])\n"
   ]
  },
  {
   "cell_type": "code",
   "execution_count": 12,
   "id": "469b24a9",
   "metadata": {},
   "outputs": [
    {
     "data": {
      "text/plain": [
       "array([[1, 2, 3],\n",
       "       [4, 5, 6]])"
      ]
     },
     "execution_count": 12,
     "metadata": {},
     "output_type": "execute_result"
    }
   ],
   "source": [
    "arr1"
   ]
  },
  {
   "cell_type": "code",
   "execution_count": 13,
   "id": "19a1e627",
   "metadata": {},
   "outputs": [
    {
     "data": {
      "text/plain": [
       "array([[3, 2, 5],\n",
       "       [4, 2, 7]])"
      ]
     },
     "execution_count": 13,
     "metadata": {},
     "output_type": "execute_result"
    }
   ],
   "source": [
    "arr2"
   ]
  },
  {
   "cell_type": "code",
   "execution_count": 14,
   "id": "d2edd5e1",
   "metadata": {},
   "outputs": [
    {
     "data": {
      "text/plain": [
       "array([1, 2, 3])"
      ]
     },
     "execution_count": 14,
     "metadata": {},
     "output_type": "execute_result"
    }
   ],
   "source": [
    "# Indexing\n",
    "arr1[0] # Here 0 reperesents 1st row of 2-D Array"
   ]
  },
  {
   "cell_type": "code",
   "execution_count": 16,
   "id": "26a41202",
   "metadata": {},
   "outputs": [
    {
     "data": {
      "text/plain": [
       "3"
      ]
     },
     "execution_count": 16,
     "metadata": {},
     "output_type": "execute_result"
    }
   ],
   "source": [
    "arr1[0][2] # Here 2 represents 1st row ,last element 0,1,2 index numbers.\n",
    "arr1[0,2] #We can also represents like this combinely"
   ]
  },
  {
   "cell_type": "code",
   "execution_count": 18,
   "id": "7dd02220",
   "metadata": {},
   "outputs": [
    {
     "data": {
      "text/plain": [
       "6"
      ]
     },
     "execution_count": 18,
     "metadata": {},
     "output_type": "execute_result"
    }
   ],
   "source": [
    "arr1[1,2] #2nd row last element"
   ]
  },
  {
   "cell_type": "code",
   "execution_count": 24,
   "id": "ae47a415",
   "metadata": {},
   "outputs": [
    {
     "data": {
      "text/plain": [
       "array([[5, 4, 7],\n",
       "       [3, 6, 4],\n",
       "       [6, 8, 7]])"
      ]
     },
     "execution_count": 24,
     "metadata": {},
     "output_type": "execute_result"
    }
   ],
   "source": [
    "#Slicing\n",
    "arr3 = np.array([[5,4,7],[3,6,4],[6,8,7]])\n",
    "arr3"
   ]
  },
  {
   "cell_type": "code",
   "execution_count": 30,
   "id": "e47092b9",
   "metadata": {},
   "outputs": [
    {
     "data": {
      "text/plain": [
       "array([5, 4, 7])"
      ]
     },
     "execution_count": 30,
     "metadata": {},
     "output_type": "execute_result"
    }
   ],
   "source": [
    "row1 = arr3[0,:]\n",
    "row1 #Gettting First row"
   ]
  },
  {
   "cell_type": "code",
   "execution_count": 34,
   "id": "c28983f0",
   "metadata": {},
   "outputs": [
    {
     "data": {
      "text/plain": [
       "array([4, 6, 8])"
      ]
     },
     "execution_count": 34,
     "metadata": {},
     "output_type": "execute_result"
    }
   ],
   "source": [
    "col1 = arr3[:,1]\n",
    "col1 #Getting First Column"
   ]
  },
  {
   "cell_type": "code",
   "execution_count": 39,
   "id": "8b089e42",
   "metadata": {},
   "outputs": [
    {
     "data": {
      "text/plain": [
       "array([[4, 7],\n",
       "       [6, 4]])"
      ]
     },
     "execution_count": 39,
     "metadata": {},
     "output_type": "execute_result"
    }
   ],
   "source": [
    "sub_matrix=arr3[0:2,1:3]\n",
    "#0:2 - it include 0,1 rows 1:3 - it include 1,2 position elements in the given matrix.\n",
    "sub_matrix "
   ]
  },
  {
   "cell_type": "code",
   "execution_count": 43,
   "id": "35672ab7",
   "metadata": {},
   "outputs": [
    {
     "name": "stdout",
     "output_type": "stream",
     "text": [
      "Element in 3D array: 9\n",
      "Plane 0:\n",
      " [[1 2 3]\n",
      " [4 5 6]]\n",
      "Plane 1, Column 1: [ 8 11]\n"
     ]
    }
   ],
   "source": [
    "# Create a 3D array (tensor)\n",
    "arr4 = np.array([[[1, 2, 3],\n",
    "                    [4, 5, 6]],\n",
    "                   \n",
    "                   [[7, 8, 9],\n",
    "                    [10, 11, 12]]])\n",
    "\n",
    "# Indexing and slicing in a 3D array\n",
    "element_3d = arr4[1, 0, 2]  # Tensor[Plane 1, Row 0, Column 2] = 9\n",
    "plane_0 = arr4[0, :, :]  # First plane (2x3 submatrix)\n",
    "plane_1_column_1 = arr4[1, :, 1]  # Second plane, all rows, second column\n",
    "print(\"Element in 3D array:\", element_3d)\n",
    "print(\"Plane 0:\\n\", plane_0)\n",
    "print(\"Plane 1, Column 1:\", plane_1_column_1)\n"
   ]
  },
  {
   "cell_type": "markdown",
   "id": "f199b3b2",
   "metadata": {},
   "source": [
    "#### c. Perform computations on multi-dimensional array using universal functions(ufunc)."
   ]
  },
  {
   "cell_type": "code",
   "execution_count": 46,
   "id": "410f882b",
   "metadata": {},
   "outputs": [
    {
     "data": {
      "text/plain": [
       "array([[14, 12, 13],\n",
       "       [15, 12, 13],\n",
       "       [16, 18, 14]])"
      ]
     },
     "execution_count": 46,
     "metadata": {},
     "output_type": "execute_result"
    }
   ],
   "source": [
    "mat1 = np.array([[4,2,3],[5,2,3],[6,8,4]])\n",
    "\n",
    "#Adding Scalar to the entire Matrix\n",
    "\n",
    "mat1 = mat1+10 # 10 is the addition to entire matrix\n",
    "\n",
    "mat1\n",
    "\n"
   ]
  },
  {
   "cell_type": "code",
   "execution_count": 47,
   "id": "dd040ac4",
   "metadata": {},
   "outputs": [
    {
     "data": {
      "text/plain": [
       "array([[3.74165739, 3.46410162, 3.60555128],\n",
       "       [3.87298335, 3.46410162, 3.60555128],\n",
       "       [4.        , 4.24264069, 3.74165739]])"
      ]
     },
     "execution_count": 47,
     "metadata": {},
     "output_type": "execute_result"
    }
   ],
   "source": [
    "# Appling square root to entire matrix\n",
    "squareroot = np.sqrt(mat1)\n",
    "\n",
    "squareroot"
   ]
  },
  {
   "cell_type": "code",
   "execution_count": 48,
   "id": "c3d894e8",
   "metadata": {},
   "outputs": [
    {
     "data": {
      "text/plain": [
       "array([[ 1202604.28416478,   162754.791419  ,   442413.39200892],\n",
       "       [ 3269017.37247211,   162754.791419  ,   442413.39200892],\n",
       "       [ 8886110.52050787, 65659969.13733051,  1202604.28416478]])"
      ]
     },
     "execution_count": 48,
     "metadata": {},
     "output_type": "execute_result"
    }
   ],
   "source": [
    "# Appling Exponential to entire matrix\n",
    "\n",
    "expo = np.exp(mat1)\n",
    "\n",
    "expo"
   ]
  },
  {
   "cell_type": "code",
   "execution_count": 49,
   "id": "460f5574",
   "metadata": {},
   "outputs": [
    {
     "data": {
      "text/plain": [
       "array([[14, 12, 13],\n",
       "       [15, 12, 13],\n",
       "       [16, 18, 14]])"
      ]
     },
     "execution_count": 49,
     "metadata": {},
     "output_type": "execute_result"
    }
   ],
   "source": [
    "# applying abs to matrix\n",
    "\n",
    "abs_mat = np.abs(mat1)\n",
    "\n",
    "abs_mat"
   ]
  },
  {
   "cell_type": "markdown",
   "id": "85173de2",
   "metadata": {},
   "source": [
    "#### d. Compute arithmetic mean, standard deviation, variance, percentile, minimum and maximum,cumulative sum and product using statistical functions in NumPy."
   ]
  },
  {
   "cell_type": "code",
   "execution_count": 50,
   "id": "b5eff4a1",
   "metadata": {},
   "outputs": [
    {
     "data": {
      "text/plain": [
       "array([[1, 2, 3],\n",
       "       [4, 5, 6]])"
      ]
     },
     "execution_count": 50,
     "metadata": {},
     "output_type": "execute_result"
    }
   ],
   "source": [
    "arr1"
   ]
  },
  {
   "cell_type": "code",
   "execution_count": 51,
   "id": "6de6e26c",
   "metadata": {},
   "outputs": [
    {
     "data": {
      "text/plain": [
       "array([[3, 2, 5],\n",
       "       [4, 2, 7]])"
      ]
     },
     "execution_count": 51,
     "metadata": {},
     "output_type": "execute_result"
    }
   ],
   "source": [
    "arr2"
   ]
  },
  {
   "cell_type": "code",
   "execution_count": 52,
   "id": "975e4ad8",
   "metadata": {},
   "outputs": [
    {
     "data": {
      "text/plain": [
       "3.5"
      ]
     },
     "execution_count": 52,
     "metadata": {},
     "output_type": "execute_result"
    }
   ],
   "source": [
    "np.mean(arr1)#calculating mean"
   ]
  },
  {
   "cell_type": "code",
   "execution_count": 53,
   "id": "1e33078e",
   "metadata": {},
   "outputs": [
    {
     "data": {
      "text/plain": [
       "1.707825127659933"
      ]
     },
     "execution_count": 53,
     "metadata": {},
     "output_type": "execute_result"
    }
   ],
   "source": [
    "np.std(arr1)#calculating standard Deviation"
   ]
  },
  {
   "cell_type": "code",
   "execution_count": 54,
   "id": "3be70a8b",
   "metadata": {},
   "outputs": [
    {
     "data": {
      "text/plain": [
       "3.1388888888888893"
      ]
     },
     "execution_count": 54,
     "metadata": {},
     "output_type": "execute_result"
    }
   ],
   "source": [
    "np.var(arr2)#calculating variance "
   ]
  },
  {
   "cell_type": "code",
   "execution_count": 57,
   "id": "ab491f96",
   "metadata": {},
   "outputs": [
    {
     "name": "stdout",
     "output_type": "stream",
     "text": [
      "25th Percentile: 2.25\n",
      "Median (50th Percentile): 3.5\n",
      "75th Percentile: 4.75\n"
     ]
    }
   ],
   "source": [
    "# Percentiles\n",
    "percentile_25 = np.percentile(arr1, 25)\n",
    "percentile_50 = np.percentile(arr1, 50)  # Also known as the median\n",
    "percentile_75 = np.percentile(arr1, 75)\n",
    "print(\"25th Percentile:\", percentile_25)\n",
    "print(\"Median (50th Percentile):\", percentile_50)\n",
    "print(\"75th Percentile:\", percentile_75)"
   ]
  },
  {
   "cell_type": "code",
   "execution_count": 58,
   "id": "73e3f45b",
   "metadata": {},
   "outputs": [
    {
     "name": "stdout",
     "output_type": "stream",
     "text": [
      "Minimum: 1\n",
      "Maximum: 6\n"
     ]
    }
   ],
   "source": [
    "# Minimum and maximum\n",
    "minimum = np.min(arr1)\n",
    "maximum = np.max(arr1)\n",
    "print(\"Minimum:\", minimum)\n",
    "print(\"Maximum:\", maximum)\n"
   ]
  },
  {
   "cell_type": "code",
   "execution_count": 60,
   "id": "526d5ffa",
   "metadata": {},
   "outputs": [
    {
     "name": "stdout",
     "output_type": "stream",
     "text": [
      "Cumulative Sum: [ 1  3  6 10 15 21]\n",
      "Cumulative Product: [  1   2   6  24 120 720]\n"
     ]
    }
   ],
   "source": [
    "# Cumulative sum and cumulative product\n",
    "cumulative_sum = np.cumsum(arr1)\n",
    "cumulative_product = np.cumprod(arr1)\n",
    "print(\"Cumulative Sum:\", cumulative_sum)\n",
    "print(\"Cumulative Product:\", cumulative_product)"
   ]
  },
  {
   "cell_type": "markdown",
   "id": "fb149b7b",
   "metadata": {},
   "source": [
    "#### e. Perform set theory operations such as union, intersection, symmetric differenceand fetching unique values."
   ]
  },
  {
   "cell_type": "code",
   "execution_count": 61,
   "id": "a2e0780c",
   "metadata": {},
   "outputs": [
    {
     "name": "stdout",
     "output_type": "stream",
     "text": [
      "Union: [1 2 3 4 5 6 7]\n",
      "Intersection: [3 4 5]\n",
      "Symmetric Difference: [1 2 6 7]\n",
      "Unique Values: [1 2 3 4 5 6 7]\n"
     ]
    }
   ],
   "source": [
    "\n",
    "\n",
    "# Create two arrays for demonstration\n",
    "array1 = np.array([1, 2, 3, 4, 5])\n",
    "array2 = np.array([3, 4, 5, 6, 7])\n",
    "\n",
    "# Union\n",
    "union_result = np.union1d(array1, array2)\n",
    "print(\"Union:\", union_result)\n",
    "\n",
    "# Intersection\n",
    "intersection_result = np.intersect1d(array1, array2)\n",
    "print(\"Intersection:\", intersection_result)\n",
    "\n",
    "# Symmetric Difference\n",
    "symmetric_diff_result = np.setxor1d(array1, array2)\n",
    "print(\"Symmetric Difference:\", symmetric_diff_result)\n",
    "\n",
    "# Fetching unique values\n",
    "unique_values = np.unique(np.concatenate((array1, array2)))\n",
    "print(\"Unique Values:\", unique_values)\n"
   ]
  },
  {
   "cell_type": "code",
   "execution_count": null,
   "id": "656078a3",
   "metadata": {},
   "outputs": [],
   "source": []
  }
 ],
 "metadata": {
  "kernelspec": {
   "display_name": "Python 3 (ipykernel)",
   "language": "python",
   "name": "python3"
  },
  "language_info": {
   "codemirror_mode": {
    "name": "ipython",
    "version": 3
   },
   "file_extension": ".py",
   "mimetype": "text/x-python",
   "name": "python",
   "nbconvert_exporter": "python",
   "pygments_lexer": "ipython3",
   "version": "3.10.9"
  }
 },
 "nbformat": 4,
 "nbformat_minor": 5
}
