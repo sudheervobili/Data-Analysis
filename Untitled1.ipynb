{
 "cells": [
  {
   "cell_type": "code",
   "execution_count": 6,
   "id": "d047d481",
   "metadata": {},
   "outputs": [],
   "source": [
    "import numpy as np\n",
    "import pandas as pd\n",
    "import matplotlib.pyplot as plt\n",
    "import seaborn as sns\n",
    "import warnings\n",
    "warnings.filterwarnings('ignore')"
   ]
  },
  {
   "cell_type": "code",
   "execution_count": 7,
   "id": "8a07470a",
   "metadata": {},
   "outputs": [
    {
     "data": {
      "text/plain": [
       "array([ 3.68465844, -8.68465844])"
      ]
     },
     "execution_count": 7,
     "metadata": {},
     "output_type": "execute_result"
    }
   ],
   "source": [
    "arr1 = np.array([[2,3],[6,-7]])\n",
    "eigenvalues, eigenvectors = np.linalg.eig(arr1)\n",
    "eigenvalues"
   ]
  },
  {
   "cell_type": "code",
   "execution_count": 8,
   "id": "80583f96",
   "metadata": {},
   "outputs": [
    {
     "data": {
      "text/plain": [
       "array([[ 0.87192821, -0.27032301],\n",
       "       [ 0.48963374,  0.96276969]])"
      ]
     },
     "execution_count": 8,
     "metadata": {},
     "output_type": "execute_result"
    }
   ],
   "source": [
    "eigenvectors"
   ]
  },
  {
   "cell_type": "code",
   "execution_count": 9,
   "id": "ff554eaf",
   "metadata": {},
   "outputs": [
    {
     "data": {
      "text/html": [
       "<div>\n",
       "<style scoped>\n",
       "    .dataframe tbody tr th:only-of-type {\n",
       "        vertical-align: middle;\n",
       "    }\n",
       "\n",
       "    .dataframe tbody tr th {\n",
       "        vertical-align: top;\n",
       "    }\n",
       "\n",
       "    .dataframe thead th {\n",
       "        text-align: right;\n",
       "    }\n",
       "</style>\n",
       "<table border=\"1\" class=\"dataframe\">\n",
       "  <thead>\n",
       "    <tr style=\"text-align: right;\">\n",
       "      <th></th>\n",
       "      <th>name</th>\n",
       "      <th>age</th>\n",
       "      <th>gender</th>\n",
       "    </tr>\n",
       "  </thead>\n",
       "  <tbody>\n",
       "    <tr>\n",
       "      <th>0</th>\n",
       "      <td>sudheer</td>\n",
       "      <td>20</td>\n",
       "      <td>male</td>\n",
       "    </tr>\n",
       "    <tr>\n",
       "      <th>1</th>\n",
       "      <td>mani</td>\n",
       "      <td>23</td>\n",
       "      <td>male</td>\n",
       "    </tr>\n",
       "    <tr>\n",
       "      <th>2</th>\n",
       "      <td>riya</td>\n",
       "      <td>24</td>\n",
       "      <td>female</td>\n",
       "    </tr>\n",
       "    <tr>\n",
       "      <th>3</th>\n",
       "      <td>laxmi</td>\n",
       "      <td>20</td>\n",
       "      <td>female</td>\n",
       "    </tr>\n",
       "    <tr>\n",
       "      <th>4</th>\n",
       "      <td>karthik</td>\n",
       "      <td>30</td>\n",
       "      <td>male</td>\n",
       "    </tr>\n",
       "  </tbody>\n",
       "</table>\n",
       "</div>"
      ],
      "text/plain": [
       "      name  age  gender\n",
       "0  sudheer   20    male\n",
       "1     mani   23    male\n",
       "2     riya   24  female\n",
       "3    laxmi   20  female\n",
       "4  karthik   30    male"
      ]
     },
     "execution_count": 9,
     "metadata": {},
     "output_type": "execute_result"
    }
   ],
   "source": [
    "data = {\n",
    "    'name':['sudheer','mani','riya','laxmi','karthik'],\n",
    "    'age':[20,23,24,20,30],\n",
    "    'gender':['male','male','female','female','male']\n",
    "}\n",
    "df = pd.DataFrame(data)\n",
    "df"
   ]
  },
  {
   "cell_type": "code",
   "execution_count": 10,
   "id": "37acf008",
   "metadata": {},
   "outputs": [
    {
     "data": {
      "text/html": [
       "<div>\n",
       "<style scoped>\n",
       "    .dataframe tbody tr th:only-of-type {\n",
       "        vertical-align: middle;\n",
       "    }\n",
       "\n",
       "    .dataframe tbody tr th {\n",
       "        vertical-align: top;\n",
       "    }\n",
       "\n",
       "    .dataframe thead th {\n",
       "        text-align: right;\n",
       "    }\n",
       "</style>\n",
       "<table border=\"1\" class=\"dataframe\">\n",
       "  <thead>\n",
       "    <tr style=\"text-align: right;\">\n",
       "      <th></th>\n",
       "      <th>name</th>\n",
       "      <th>age</th>\n",
       "      <th>gender</th>\n",
       "      <th>gender_map</th>\n",
       "    </tr>\n",
       "  </thead>\n",
       "  <tbody>\n",
       "    <tr>\n",
       "      <th>0</th>\n",
       "      <td>sudheer</td>\n",
       "      <td>20</td>\n",
       "      <td>male</td>\n",
       "      <td>1</td>\n",
       "    </tr>\n",
       "    <tr>\n",
       "      <th>1</th>\n",
       "      <td>mani</td>\n",
       "      <td>23</td>\n",
       "      <td>male</td>\n",
       "      <td>1</td>\n",
       "    </tr>\n",
       "    <tr>\n",
       "      <th>2</th>\n",
       "      <td>riya</td>\n",
       "      <td>24</td>\n",
       "      <td>female</td>\n",
       "      <td>0</td>\n",
       "    </tr>\n",
       "    <tr>\n",
       "      <th>3</th>\n",
       "      <td>laxmi</td>\n",
       "      <td>20</td>\n",
       "      <td>female</td>\n",
       "      <td>0</td>\n",
       "    </tr>\n",
       "    <tr>\n",
       "      <th>4</th>\n",
       "      <td>karthik</td>\n",
       "      <td>30</td>\n",
       "      <td>male</td>\n",
       "      <td>1</td>\n",
       "    </tr>\n",
       "  </tbody>\n",
       "</table>\n",
       "</div>"
      ],
      "text/plain": [
       "      name  age  gender  gender_map\n",
       "0  sudheer   20    male           1\n",
       "1     mani   23    male           1\n",
       "2     riya   24  female           0\n",
       "3    laxmi   20  female           0\n",
       "4  karthik   30    male           1"
      ]
     },
     "execution_count": 10,
     "metadata": {},
     "output_type": "execute_result"
    }
   ],
   "source": [
    "gender_mapping = {'male':1,'female':0}\n",
    "df['gender_map']=df['gender'].map(gender_mapping)\n",
    "df"
   ]
  },
  {
   "cell_type": "code",
   "execution_count": 11,
   "id": "23a2fc02",
   "metadata": {},
   "outputs": [
    {
     "data": {
      "text/html": [
       "<div>\n",
       "<style scoped>\n",
       "    .dataframe tbody tr th:only-of-type {\n",
       "        vertical-align: middle;\n",
       "    }\n",
       "\n",
       "    .dataframe tbody tr th {\n",
       "        vertical-align: top;\n",
       "    }\n",
       "\n",
       "    .dataframe thead th {\n",
       "        text-align: right;\n",
       "    }\n",
       "</style>\n",
       "<table border=\"1\" class=\"dataframe\">\n",
       "  <thead>\n",
       "    <tr style=\"text-align: right;\">\n",
       "      <th></th>\n",
       "      <th>name</th>\n",
       "      <th>age</th>\n",
       "      <th>gender</th>\n",
       "      <th>gender_map</th>\n",
       "      <th>age_replace</th>\n",
       "    </tr>\n",
       "  </thead>\n",
       "  <tbody>\n",
       "    <tr>\n",
       "      <th>0</th>\n",
       "      <td>sudheer</td>\n",
       "      <td>20</td>\n",
       "      <td>male</td>\n",
       "      <td>1</td>\n",
       "      <td>21</td>\n",
       "    </tr>\n",
       "    <tr>\n",
       "      <th>1</th>\n",
       "      <td>mani</td>\n",
       "      <td>23</td>\n",
       "      <td>male</td>\n",
       "      <td>1</td>\n",
       "      <td>23</td>\n",
       "    </tr>\n",
       "    <tr>\n",
       "      <th>2</th>\n",
       "      <td>riya</td>\n",
       "      <td>24</td>\n",
       "      <td>female</td>\n",
       "      <td>0</td>\n",
       "      <td>24</td>\n",
       "    </tr>\n",
       "    <tr>\n",
       "      <th>3</th>\n",
       "      <td>laxmi</td>\n",
       "      <td>20</td>\n",
       "      <td>female</td>\n",
       "      <td>0</td>\n",
       "      <td>21</td>\n",
       "    </tr>\n",
       "    <tr>\n",
       "      <th>4</th>\n",
       "      <td>karthik</td>\n",
       "      <td>30</td>\n",
       "      <td>male</td>\n",
       "      <td>1</td>\n",
       "      <td>30</td>\n",
       "    </tr>\n",
       "  </tbody>\n",
       "</table>\n",
       "</div>"
      ],
      "text/plain": [
       "      name  age  gender  gender_map  age_replace\n",
       "0  sudheer   20    male           1           21\n",
       "1     mani   23    male           1           23\n",
       "2     riya   24  female           0           24\n",
       "3    laxmi   20  female           0           21\n",
       "4  karthik   30    male           1           30"
      ]
     },
     "execution_count": 11,
     "metadata": {},
     "output_type": "execute_result"
    }
   ],
   "source": [
    "df['age_replace'] = df['age'].replace({20:21})\n",
    "df"
   ]
  },
  {
   "cell_type": "code",
   "execution_count": null,
   "id": "e9222c1a",
   "metadata": {},
   "outputs": [],
   "source": []
  },
  {
   "cell_type": "code",
   "execution_count": 16,
   "id": "884f2f76",
   "metadata": {},
   "outputs": [
    {
     "name": "stdout",
     "output_type": "stream",
     "text": [
      "Rows deleted: 0\n"
     ]
    }
   ],
   "source": [
    "import sqlite3\n",
    "conn = sqlite3.connect('databaseserver.db')\n",
    "cur = conn.cursor()\n",
    "cur.execute('''\n",
    "         create table if not exists stu_data7(stu_name varchar2(30),stu_age number(10),stu_address varchar2(20),phno number(10))\n",
    "    '''\n",
    "   )\n",
    "data = [\n",
    "    (121,'sudheer',20,'bvrm'),\n",
    "    (122,'mani',19,'pkl')\n",
    "]\n",
    "cur.executemany(\"insert into stu_data7(stu_name,stu_age,stu_address,phno) values (?,?,?,?)\",data)\n",
    "cur.execute(\"DELETE FROM stu_data7 WHERE stu_name = ?\", ('sudheer',))\n",
    "rows_deleted = cur.rowcount  # Get the number of rows affected by the DELETE operation\n",
    "print(f\"Rows deleted: {rows_deleted}\")\n",
    "conn.commit()"
   ]
  },
  {
   "cell_type": "code",
   "execution_count": 15,
   "id": "59a68f16",
   "metadata": {},
   "outputs": [
    {
     "data": {
      "text/html": [
       "<div>\n",
       "<style scoped>\n",
       "    .dataframe tbody tr th:only-of-type {\n",
       "        vertical-align: middle;\n",
       "    }\n",
       "\n",
       "    .dataframe tbody tr th {\n",
       "        vertical-align: top;\n",
       "    }\n",
       "\n",
       "    .dataframe thead th {\n",
       "        text-align: right;\n",
       "    }\n",
       "</style>\n",
       "<table border=\"1\" class=\"dataframe\">\n",
       "  <thead>\n",
       "    <tr style=\"text-align: right;\">\n",
       "      <th></th>\n",
       "      <th>stu_name</th>\n",
       "      <th>stu_age</th>\n",
       "      <th>stu_address</th>\n",
       "      <th>phno</th>\n",
       "    </tr>\n",
       "  </thead>\n",
       "  <tbody>\n",
       "    <tr>\n",
       "      <th>0</th>\n",
       "      <td>121</td>\n",
       "      <td>sudheer</td>\n",
       "      <td>20</td>\n",
       "      <td>bvrm</td>\n",
       "    </tr>\n",
       "    <tr>\n",
       "      <th>1</th>\n",
       "      <td>122</td>\n",
       "      <td>mani</td>\n",
       "      <td>19</td>\n",
       "      <td>pkl</td>\n",
       "    </tr>\n",
       "    <tr>\n",
       "      <th>2</th>\n",
       "      <td>121</td>\n",
       "      <td>sudheer</td>\n",
       "      <td>20</td>\n",
       "      <td>bvrm</td>\n",
       "    </tr>\n",
       "    <tr>\n",
       "      <th>3</th>\n",
       "      <td>122</td>\n",
       "      <td>mani</td>\n",
       "      <td>19</td>\n",
       "      <td>pkl</td>\n",
       "    </tr>\n",
       "    <tr>\n",
       "      <th>4</th>\n",
       "      <td>121</td>\n",
       "      <td>sudheer</td>\n",
       "      <td>20</td>\n",
       "      <td>bvrm</td>\n",
       "    </tr>\n",
       "  </tbody>\n",
       "</table>\n",
       "</div>"
      ],
      "text/plain": [
       "  stu_name  stu_age stu_address  phno\n",
       "0      121  sudheer          20  bvrm\n",
       "1      122     mani          19   pkl\n",
       "2      121  sudheer          20  bvrm\n",
       "3      122     mani          19   pkl\n",
       "4      121  sudheer          20  bvrm"
      ]
     },
     "execution_count": 15,
     "metadata": {},
     "output_type": "execute_result"
    }
   ],
   "source": [
    "cur.execute(\"SELECT * FROM stu_data7\")\n",
    "rows = cur.fetchall()\n",
    "columns = [desc[0] for desc in cur.description] \n",
    "df = pd.DataFrame(rows, columns=columns)\n",
    "\n",
    "\n",
    "df.head()"
   ]
  },
  {
   "cell_type": "code",
   "execution_count": 17,
   "id": "148def61",
   "metadata": {},
   "outputs": [
    {
     "name": "stdout",
     "output_type": "stream",
     "text": [
      "Rows before deletion where stu_name is 'sudheer': []\n",
      "Rows deleted: 0\n"
     ]
    }
   ],
   "source": [
    "import sqlite3\n",
    "\n",
    "conn = sqlite3.connect('databaseserver.db')\n",
    "cur = conn.cursor()\n",
    "\n",
    "# Assuming the table 'stu_data7' already exists\n",
    "\n",
    "# Display rows where stu_name is 'sudheer' before deletion\n",
    "cur.execute(\"SELECT * FROM stu_data7 WHERE stu_name = ?\", ('sudheer',))\n",
    "rows_before_deletion = cur.fetchall()\n",
    "print(f\"Rows before deletion where stu_name is 'sudheer': {rows_before_deletion}\")\n",
    "\n",
    "# Deleting rows where stu_name is 'sudheer'\n",
    "cur.execute(\"DELETE FROM stu_data7 WHERE stu_name = ?\", ('sudheer',))\n",
    "rows_deleted = cur.rowcount  # Get the number of rows affected by the DELETE operation\n",
    "print(f\"Rows deleted: {rows_deleted}\")\n",
    "\n",
    "conn.commit()\n"
   ]
  },
  {
   "cell_type": "code",
   "execution_count": 18,
   "id": "5a42da8f",
   "metadata": {},
   "outputs": [
    {
     "name": "stdout",
     "output_type": "stream",
     "text": [
      "[('121', 'sudheer', '20', 'bvrm'), ('122', 'mani', '19', 'pkl'), ('121', 'sudheer', '20', 'bvrm'), ('122', 'mani', '19', 'pkl'), ('121', 'sudheer', '20', 'bvrm'), ('122', 'mani', '19', 'pkl'), ('121', 'sudheer', '20', 'bvrm'), ('122', 'mani', '19', 'pkl')]\n"
     ]
    }
   ],
   "source": [
    "cur.execute(\"SELECT * FROM stu_data7\")\n",
    "all_rows = cur.fetchall()\n",
    "print(all_rows)"
   ]
  },
  {
   "cell_type": "code",
   "execution_count": 19,
   "id": "2754ba7e",
   "metadata": {},
   "outputs": [
    {
     "name": "stdout",
     "output_type": "stream",
     "text": [
      "Monthly Upsampled Data:\n",
      "2023-01-31    56.838710\n",
      "2023-02-28    40.928571\n",
      "2023-03-31    45.064516\n",
      "2023-04-30    53.633333\n",
      "2023-05-31    46.870968\n",
      "Freq: M, dtype: float64\n",
      "\n",
      "Weekly Downsampled Data:\n",
      "2023-01-01    44.000000\n",
      "2023-01-08    51.142857\n",
      "2023-01-15    62.714286\n",
      "2023-01-22    63.285714\n",
      "2023-01-29    50.285714\n",
      "Freq: W-SUN, dtype: float64\n",
      "\n",
      "Upsampled Data using forward fill (Hourly):\n",
      "2023-01-01 00:00:00    44\n",
      "2023-01-01 01:00:00    44\n",
      "2023-01-01 02:00:00    44\n",
      "2023-01-01 03:00:00    44\n",
      "2023-01-01 04:00:00    44\n",
      "Freq: H, dtype: int32\n"
     ]
    }
   ],
   "source": [
    "import pandas as pd\n",
    "import numpy as np\n",
    "import datetime\n",
    "\n",
    "# Creating a sample time series data\n",
    "np.random.seed(0)\n",
    "date_range = pd.date_range('2023-01-01', '2023-12-31', freq='D')\n",
    "time_series = pd.Series(np.random.randint(0, 100, size=len(date_range)), index=date_range)\n",
    "\n",
    "# Resampling to a monthly frequency (Upsampling)\n",
    "monthly_data = time_series.resample('M').mean()\n",
    "\n",
    "# Downsampling to a weekly frequency\n",
    "weekly_data = time_series.resample('W').mean()\n",
    "\n",
    "# Upsampling to a higher frequency using forward fill (ffill)\n",
    "upsampled_data = time_series.resample('H').ffill()\n",
    "\n",
    "# Printing a sample of each resampled time series\n",
    "print(\"Monthly Upsampled Data:\")\n",
    "print(monthly_data.head())\n",
    "\n",
    "print(\"\\nWeekly Downsampled Data:\")\n",
    "print(weekly_data.head())\n",
    "\n",
    "print(\"\\nUpsampled Data using forward fill (Hourly):\")\n",
    "print(upsampled_data.head())\n"
   ]
  },
  {
   "cell_type": "code",
   "execution_count": null,
   "id": "1978cecf",
   "metadata": {},
   "outputs": [],
   "source": []
  }
 ],
 "metadata": {
  "kernelspec": {
   "display_name": "Python 3 (ipykernel)",
   "language": "python",
   "name": "python3"
  },
  "language_info": {
   "codemirror_mode": {
    "name": "ipython",
    "version": 3
   },
   "file_extension": ".py",
   "mimetype": "text/x-python",
   "name": "python",
   "nbconvert_exporter": "python",
   "pygments_lexer": "ipython3",
   "version": "3.10.9"
  }
 },
 "nbformat": 4,
 "nbformat_minor": 5
}
